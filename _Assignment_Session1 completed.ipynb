{
 "cells": [
  {
   "cell_type": "markdown",
   "metadata": {
    "collapsed": false
   },
   "source": [
    "1) After running the following code, what does the variable bacon contain?\n",
    "\n",
    "bacon = 22\n",
    "\n",
    "bacon + 1\n",
    "\n",
    "The variable contains 23 "
   ]
  },
  {
   "cell_type": "markdown",
   "metadata": {
    "collapsed": false
   },
   "source": [
    "2) What should the values of the following two terms be?\n",
    "\n",
    "'spam' + 'spamspam'\n",
    "\n",
    "'spam' * 3\n",
    "\n",
    "output:\n",
    "spamspamspam\n",
    "spamspamspam"
   ]
  },
  {
   "cell_type": "markdown",
   "metadata": {
    "collapsed": false
   },
   "source": [
    "3) How can you tell the difference between break and continue?\n",
    "Break statement stop the loop before it has looped through all the items,while continue statement stops the current iteration and continue from the next iteration."
   ]
  },
  {
   "cell_type": "markdown",
   "metadata": {
    "collapsed": false
   },
   "source": [
    "4) In a for loop, what is the difference between range(10), range(0, 10), and range(0, 10, 1)?\n",
    "First and second statement generates numbers from 0 to  10 and  statement also  generates from 0 to 10. (the additional third parameter indicates 'step',the value to be incremented and the default value is one).\n"
   ]
  },
  {
   "cell_type": "raw",
   "metadata": {
    "collapsed": false
   },
   "source": [
    "5) Using a for loop, write a short programme that prints the numbers 1 to 10 Then, using a while loop, create an identical programme that prints the numbers 1 to 10.\n",
    "for x in range(10):\n",
    "   print(x)\n",
    "   \n",
    "   \n",
    "   x=1\n",
    "   while x<6:\n",
    "    print(x)\n",
    "   x+=1\n"
   ]
  },
  {
   "cell_type": "raw",
   "metadata": {
    "collapsed": false
   },
   "source": [
    "6) Given a number x, determine whether the given number is Armstrong number or not.\n",
    "\n",
    "Input : 153\n",
    "\n",
    "Output : Yes\n",
    "\n",
    "153 is an Armstrong number.\n",
    "\n",
    "1 * 1 * 1 + 5 * 5 * 5 + 3 * 3 * 3 = 153"
   ]
  },
  {
   "cell_type": "markdown",
   "metadata": {
    "collapsed": false
   },
   "source": [
    "7) Program to find Sum of squares of first n natural numbers.\n"
   ]
  },
  {
   "cell_type": "markdown",
   "metadata": {
    "collapsed": false
   },
   "source": [
    "8) Program to Reverse words in a given String in Python."
   ]
  },
  {
   "cell_type": "markdown",
   "metadata": {
    "collapsed": false
   },
   "source": [
    "9) Given a list of numbers, write a Python program to find the sum of all the elements in the list.\n",
    "\n",
    "Input: [10,12,13]\n",
    "\n",
    "Output: 35"
   ]
  },
  {
   "cell_type": "markdown",
   "metadata": {
    "collapsed": false
   },
   "source": [
    "10) Write a Python program to print all even numbers between 10-1000."
   ]
  }
 ],
 "metadata": {
  "kernelspec": {
   "display_name": "Python 3 (system-wide)",
   "language": "python",
   "metadata": {
    "cocalc": {
     "description": "Python 3 programming language",
     "priority": 100,
     "url": "https://www.python.org/"
    }
   },
   "name": "python3",
   "resource_dir": "/ext/jupyter/kernels/python3"
  },
  "language_info": {
   "codemirror_mode": {
    "name": "ipython",
    "version": 3
   },
   "file_extension": ".py",
   "mimetype": "text/x-python",
   "name": "python",
   "nbconvert_exporter": "python",
   "pygments_lexer": "ipython3",
   "version": "3.7.3"
  }
 },
 "nbformat": 4,
 "nbformat_minor": 4
}